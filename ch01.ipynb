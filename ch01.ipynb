{
 "cells": [
  {
   "cell_type": "code",
   "execution_count": 9,
   "metadata": {
    "collapsed": false
   },
   "outputs": [],
   "source": [
    "from sqlalchemy import MetaData\n",
    "metadata = MetaData()"
   ]
  },
  {
   "cell_type": "code",
   "execution_count": 10,
   "metadata": {
    "collapsed": false
   },
   "outputs": [],
   "source": [
    "from datetime import datetime"
   ]
  },
  {
   "cell_type": "code",
   "execution_count": 11,
   "metadata": {
    "collapsed": false
   },
   "outputs": [],
   "source": [
    "from sqlalchemy import Table, Column, Integer, Numeric, String, ForeignKey, DateTime"
   ]
  },
  {
   "cell_type": "code",
   "execution_count": 12,
   "metadata": {
    "collapsed": false
   },
   "outputs": [],
   "source": [
    "from sqlalchemy import create_engine"
   ]
  },
  {
   "cell_type": "code",
   "execution_count": 13,
   "metadata": {
    "collapsed": false
   },
   "outputs": [],
   "source": [
    "engine = create_engine('sqlite:///:memory:')"
   ]
  },
  {
   "cell_type": "code",
   "execution_count": 6,
   "metadata": {
    "collapsed": false
   },
   "outputs": [],
   "source": [
    "cookies = Table('cookies', metadata,\n",
    "    Column('cookie_id', Integer(), primary_key=True),\n",
    "    Column('cookie_name', String(50), index=True),\n",
    "    Column('cookie_recipe_url', String(255)),\n",
    "    Column('cookie_sku', String(55)),\n",
    "    Column('quantity', Integer()),\n",
    "    Column('unit_cost', Numeric(12, 2))\n",
    ")"
   ]
  },
  {
   "cell_type": "code",
   "execution_count": 19,
   "metadata": {},
   "outputs": [],
   "source": [
    "# from sqlalchemy import Index\n",
    "\n",
    "# cookies = Table('cookies', metadata,\n",
    "#     Column('cookie_id', Integer(), primary_key=True),\n",
    "#     Column('cookie_name', String(50), index=True),\n",
    "#     Column('cookie_recipe_url', String(255)),\n",
    "#     Column('cookie_sku', String(55)),\n",
    "#     Column('quantity', Integer()),\n",
    "#     Column('unit_cost', Numeric(12, 2)),\n",
    "#     #Index('ix_cookies_cookie_name', 'cookie_name'),\n",
    "#     Index('ix_test', cookies.c.cookie_sku, cookies.c.cookie_name),\n",
    "#     #extend_existing=True\n",
    "# )"
   ]
  },
  {
   "cell_type": "code",
   "execution_count": 20,
   "metadata": {
    "collapsed": false
   },
   "outputs": [],
   "source": [
    "users = Table('users', metadata,\n",
    "    Column('user_id', Integer(), primary_key=True),\n",
    "    Column('username', String(15), nullable=False, unique=True),\n",
    "    Column('email_address', String(255), nullable=False),\n",
    "    Column('phone', String(20), nullable=False),\n",
    "    Column('password', String(25), nullable=False),\n",
    "    Column('created_on', DateTime(), default=datetime.now),\n",
    "    Column('updated_on', DateTime(), default=datetime.now, onupdate=datetime.now)\n",
    ")"
   ]
  },
  {
   "cell_type": "code",
   "execution_count": 21,
   "metadata": {
    "collapsed": false
   },
   "outputs": [],
   "source": [
    "orders = Table('orders', metadata,\n",
    "    Column('order_id', Integer(), primary_key=True),\n",
    "    Column('user_id', ForeignKey('users.user_id')),\n",
    ")\n",
    "\n",
    "line_items = Table('line_items', metadata,\n",
    "    Column('line_items_id', Integer(), primary_key=True),\n",
    "    Column('order_id', ForeignKey('orders.order_id')),\n",
    "    Column('cookie_id', ForeignKey('cookies.cookie_id')),\n",
    "    Column('quantity', Integer()),\n",
    "    Column('extended_cost', Numeric(12, 2))\n",
    ")"
   ]
  },
  {
   "cell_type": "code",
   "execution_count": 22,
   "metadata": {},
   "outputs": [
    {
     "data": {
      "text/plain": [
       "ForeignKeyConstraint(<sqlalchemy.sql.base.DedupeColumnCollection object at 0x7fafb8b16c20>, None)"
      ]
     },
     "execution_count": 22,
     "metadata": {},
     "output_type": "execute_result"
    }
   ],
   "source": [
    "# from sqlalchemy import ForeignKeyConstraint\n",
    "\n",
    "# ForeignKeyConstraint(['order_id'], ['orders.order_id'])"
   ]
  },
  {
   "cell_type": "code",
   "execution_count": 9,
   "metadata": {
    "collapsed": false
   },
   "outputs": [],
   "source": [
    "metadata.create_all(engine)"
   ]
  },
  {
   "cell_type": "code",
   "execution_count": 11,
   "metadata": {},
   "outputs": [
    {
     "data": {
      "text/plain": [
       "FacadeDict({'cookies': Table('cookies', MetaData(), Column('cookie_id', Integer(), table=<cookies>, primary_key=True, nullable=False), Column('cookie_name', String(length=50), table=<cookies>), Column('cookie_recipe_url', String(length=255), table=<cookies>), Column('cookie_sku', String(length=55), table=<cookies>), Column('quantity', Integer(), table=<cookies>), Column('unit_cost', Numeric(precision=12, scale=2), table=<cookies>), schema=None), 'users': Table('users', MetaData(), Column('user_id', Integer(), table=<users>, primary_key=True, nullable=False), Column('username', String(length=15), table=<users>, nullable=False), Column('email_address', String(length=255), table=<users>, nullable=False), Column('phone', String(length=20), table=<users>, nullable=False), Column('password', String(length=25), table=<users>, nullable=False), Column('created_on', DateTime(), table=<users>, default=ColumnDefault(<function datetime.now at 0x7fcf5d310af0>)), Column('updated_on', DateTime(), table=<users>, onupdate=ColumnDefault(<function datetime.now at 0x7fcf5d310ca0>), default=ColumnDefault(<function datetime.now at 0x7fcf5d310c10>)), schema=None), 'orders': Table('orders', MetaData(), Column('order_id', Integer(), table=<orders>, primary_key=True, nullable=False), Column('user_id', Integer(), ForeignKey('users.user_id'), table=<orders>), schema=None), 'line_items': Table('line_items', MetaData(), Column('line_items_id', Integer(), table=<line_items>, primary_key=True, nullable=False), Column('order_id', Integer(), ForeignKey('orders.order_id'), table=<line_items>), Column('cookie_id', Integer(), ForeignKey('cookies.cookie_id'), table=<line_items>), Column('quantity', Integer(), table=<line_items>), Column('extended_cost', Numeric(precision=12, scale=2), table=<line_items>), schema=None)})"
      ]
     },
     "execution_count": 11,
     "metadata": {},
     "output_type": "execute_result"
    }
   ],
   "source": [
    "metadata.tables"
   ]
  },
  {
   "cell_type": "code",
   "execution_count": 16,
   "metadata": {},
   "outputs": [
    {
     "name": "stdout",
     "output_type": "stream",
     "text": [
      "cookies cookies\n",
      "users users\n",
      "orders orders\n",
      "line_items line_items\n"
     ]
    }
   ],
   "source": [
    "for k,v in metadata.tables.items():\n",
    "    print(k, v)"
   ]
  },
  {
   "cell_type": "code",
   "execution_count": 17,
   "metadata": {},
   "outputs": [],
   "source": [
    "import sqlalchemy"
   ]
  },
  {
   "cell_type": "code",
   "execution_count": 19,
   "metadata": {},
   "outputs": [
    {
     "data": {
      "text/plain": [
       "['__all__',\n",
       " '__builtins__',\n",
       " '__cached__',\n",
       " '__doc__',\n",
       " '__file__',\n",
       " '__loader__',\n",
       " '__name__',\n",
       " '__package__',\n",
       " '__path__',\n",
       " '__spec__',\n",
       " '_auto_fn',\n",
       " 'plugins',\n",
       " 'registry',\n",
       " 'sqlite',\n",
       " 'util']"
      ]
     },
     "execution_count": 19,
     "metadata": {},
     "output_type": "execute_result"
    }
   ],
   "source": [
    "dir(sqlalchemy.dialects)"
   ]
  },
  {
   "cell_type": "code",
   "execution_count": 27,
   "metadata": {},
   "outputs": [
    {
     "data": {
      "text/plain": [
       "['ARRAY',\n",
       " 'BIGINT',\n",
       " 'BINARY',\n",
       " 'BLOB',\n",
       " 'BOOLEAN',\n",
       " 'BigInteger',\n",
       " 'Boolean',\n",
       " 'CHAR',\n",
       " 'CLOB',\n",
       " 'Concatenable',\n",
       " 'DATE',\n",
       " 'DATETIME',\n",
       " 'DECIMAL',\n",
       " 'Date',\n",
       " 'DateTime',\n",
       " 'Enum',\n",
       " 'ExternalType',\n",
       " 'FLOAT',\n",
       " 'Float',\n",
       " 'INT',\n",
       " 'INTEGER',\n",
       " 'Indexable',\n",
       " 'Integer',\n",
       " 'Interval',\n",
       " 'JSON',\n",
       " 'LargeBinary',\n",
       " 'MatchType',\n",
       " 'NCHAR',\n",
       " 'NULLTYPE',\n",
       " 'NUMERIC',\n",
       " 'NVARCHAR',\n",
       " 'NullType',\n",
       " 'Numeric',\n",
       " 'PickleType',\n",
       " 'REAL',\n",
       " 'SMALLINT',\n",
       " 'STRINGTYPE',\n",
       " 'SchemaType',\n",
       " 'SmallInteger',\n",
       " 'String',\n",
       " 'TEXT',\n",
       " 'TIME',\n",
       " 'TIMESTAMP',\n",
       " 'Text',\n",
       " 'Time',\n",
       " 'TupleType',\n",
       " 'TypeDecorator',\n",
       " 'TypeEngine',\n",
       " 'Unicode',\n",
       " 'UnicodeText',\n",
       " 'UserDefinedType',\n",
       " 'VARBINARY',\n",
       " 'VARCHAR',\n",
       " 'Variant',\n",
       " '_Binary',\n",
       " '__all__',\n",
       " '__builtins__',\n",
       " '__cached__',\n",
       " '__doc__',\n",
       " '__file__',\n",
       " '__loader__',\n",
       " '__name__',\n",
       " '__package__',\n",
       " '__spec__',\n",
       " 'adapt_type',\n",
       " 'to_instance']"
      ]
     },
     "execution_count": 27,
     "metadata": {},
     "output_type": "execute_result"
    }
   ],
   "source": [
    "[x for x in dir(sqlalchemy.types)]"
   ]
  },
  {
   "cell_type": "code",
   "execution_count": null,
   "metadata": {},
   "outputs": [],
   "source": []
  }
 ],
 "metadata": {
  "kernelspec": {
   "display_name": "venv",
   "language": "python",
   "name": "python3"
  },
  "language_info": {
   "codemirror_mode": {
    "name": "ipython",
    "version": 3
   },
   "file_extension": ".py",
   "mimetype": "text/x-python",
   "name": "python",
   "nbconvert_exporter": "python",
   "pygments_lexer": "ipython3",
   "version": "3.9.13"
  },
  "vscode": {
   "interpreter": {
    "hash": "0d287ad540464c5dd0875ff1f6e95d18b97cf4cef0f3ccb9970a6b86a9e1ba23"
   }
  }
 },
 "nbformat": 4,
 "nbformat_minor": 0
}
